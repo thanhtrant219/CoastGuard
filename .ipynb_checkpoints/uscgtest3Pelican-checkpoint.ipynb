{
 "cells": [
  {
   "cell_type": "code",
   "execution_count": 326,
   "id": "fitting-identification",
   "metadata": {},
   "outputs": [],
   "source": [
    "from datetime import datetime as dt\n",
    "import numpy as np\n",
    "import pandas as pd\n",
    "import math\n",
    "import matplotlib.dates as mdates\n"
   ]
  },
  {
   "cell_type": "code",
   "execution_count": 153,
   "id": "canadian-albert",
   "metadata": {},
   "outputs": [],
   "source": [
    "import matplotlib.pyplot as plt"
   ]
  },
  {
   "cell_type": "code",
   "execution_count": 154,
   "id": "governmental-display",
   "metadata": {},
   "outputs": [
    {
     "name": "stdout",
     "output_type": "stream",
     "text": [
      "[Errno 2] No such file or directory: 'Lat-Lon_Leeway/GALVESTONTEST3_APRIL182021'\n",
      "/Users/qfm954/Dropbox/USCG/Lat-Lon_Leeway/GALVESTONTEST3_APRIL182021\n"
     ]
    }
   ],
   "source": [
    "cd Lat-Lon_Leeway/GALVESTONTEST3_APRIL182021"
   ]
  },
  {
   "cell_type": "code",
   "execution_count": 5,
   "id": "balanced-pantyhose",
   "metadata": {},
   "outputs": [
    {
     "data": {
      "text/plain": [
       "'/Users/qfm954/Desktop/BIGDATA/Codes'"
      ]
     },
     "execution_count": 5,
     "metadata": {},
     "output_type": "execute_result"
    }
   ],
   "source": [
    "pwd"
   ]
  },
  {
   "cell_type": "code",
   "execution_count": 7,
   "id": "practical-firewall",
   "metadata": {},
   "outputs": [
    {
     "name": "stdout",
     "output_type": "stream",
     "text": [
      "/Users/qfm954/Dropbox/USCG/Lat-Lon_Leeway/GALVESTONTEST3_APRIL182021\n"
     ]
    }
   ],
   "source": [
    "cd /Users/qfm954/Dropbox/USCG/Lat-Lon_Leeway/GALVESTONTEST3_APRIL182021"
   ]
  },
  {
   "cell_type": "code",
   "execution_count": 155,
   "id": "brutal-pasta",
   "metadata": {},
   "outputs": [],
   "source": [
    "Test3_df1=pd.read_excel(\"LO_Time_lat_lon_xN_yW (GV3_P1_MS1).xlsx\")"
   ]
  },
  {
   "cell_type": "code",
   "execution_count": 156,
   "id": "excellent-carbon",
   "metadata": {},
   "outputs": [],
   "source": [
    "Test3_df2=pd.read_excel(\"LO_Time_lat_lon_xN_yW (GV3_P1_MS2).xlsx\")"
   ]
  },
  {
   "cell_type": "code",
   "execution_count": 157,
   "id": "proper-grave",
   "metadata": {},
   "outputs": [],
   "source": [
    "Test3_df3=pd.read_excel(\"LO_Time_lat_lon_xN_yW (GV3_P2_MS1).xlsx\")"
   ]
  },
  {
   "cell_type": "code",
   "execution_count": 158,
   "id": "blond-theta",
   "metadata": {},
   "outputs": [],
   "source": [
    "Test3_df4=pd.read_excel(\"LO_Time_lat_lon_xN_yW (GV3_P2_MS2).xlsx\")"
   ]
  },
  {
   "cell_type": "code",
   "execution_count": 12,
   "id": "human-accused",
   "metadata": {},
   "outputs": [
    {
     "data": {
      "text/html": [
       "<div>\n",
       "<style scoped>\n",
       "    .dataframe tbody tr th:only-of-type {\n",
       "        vertical-align: middle;\n",
       "    }\n",
       "\n",
       "    .dataframe tbody tr th {\n",
       "        vertical-align: top;\n",
       "    }\n",
       "\n",
       "    .dataframe thead th {\n",
       "        text-align: right;\n",
       "    }\n",
       "</style>\n",
       "<table border=\"1\" class=\"dataframe\">\n",
       "  <thead>\n",
       "    <tr style=\"text-align: right;\">\n",
       "      <th></th>\n",
       "      <th>GMT_Time</th>\n",
       "      <th>LO_lat</th>\n",
       "      <th>LO_lon</th>\n",
       "      <th>xN_LO</th>\n",
       "      <th>yW_LO</th>\n",
       "    </tr>\n",
       "  </thead>\n",
       "  <tbody>\n",
       "    <tr>\n",
       "      <th>0</th>\n",
       "      <td>04:39:11.630</td>\n",
       "      <td>29.350031</td>\n",
       "      <td>-94.852463</td>\n",
       "      <td>4.467403</td>\n",
       "      <td>4.467403</td>\n",
       "    </tr>\n",
       "    <tr>\n",
       "      <th>1</th>\n",
       "      <td>04:39:12.630</td>\n",
       "      <td>29.350023</td>\n",
       "      <td>-94.852358</td>\n",
       "      <td>3.589672</td>\n",
       "      <td>-5.704631</td>\n",
       "    </tr>\n",
       "    <tr>\n",
       "      <th>2</th>\n",
       "      <td>04:39:13.729</td>\n",
       "      <td>29.350016</td>\n",
       "      <td>-94.852365</td>\n",
       "      <td>2.790884</td>\n",
       "      <td>-5.055874</td>\n",
       "    </tr>\n",
       "    <tr>\n",
       "      <th>3</th>\n",
       "      <td>04:39:15.029</td>\n",
       "      <td>29.350016</td>\n",
       "      <td>-94.852361</td>\n",
       "      <td>2.782582</td>\n",
       "      <td>-5.471702</td>\n",
       "    </tr>\n",
       "    <tr>\n",
       "      <th>4</th>\n",
       "      <td>04:39:16.329</td>\n",
       "      <td>29.350064</td>\n",
       "      <td>-94.852278</td>\n",
       "      <td>8.111431</td>\n",
       "      <td>-13.519155</td>\n",
       "    </tr>\n",
       "    <tr>\n",
       "      <th>...</th>\n",
       "      <td>...</td>\n",
       "      <td>...</td>\n",
       "      <td>...</td>\n",
       "      <td>...</td>\n",
       "      <td>...</td>\n",
       "    </tr>\n",
       "    <tr>\n",
       "      <th>2372</th>\n",
       "      <td>07:00:22.729</td>\n",
       "      <td>29.343793</td>\n",
       "      <td>-94.852266</td>\n",
       "      <td>-686.986554</td>\n",
       "      <td>-14.632238</td>\n",
       "    </tr>\n",
       "    <tr>\n",
       "      <th>2373</th>\n",
       "      <td>07:01:01.829</td>\n",
       "      <td>29.343665</td>\n",
       "      <td>-94.852272</td>\n",
       "      <td>-701.235384</td>\n",
       "      <td>-14.101688</td>\n",
       "    </tr>\n",
       "    <tr>\n",
       "      <th>2374</th>\n",
       "      <td>07:01:06.730</td>\n",
       "      <td>29.343649</td>\n",
       "      <td>-94.852296</td>\n",
       "      <td>-702.930651</td>\n",
       "      <td>-11.752440</td>\n",
       "    </tr>\n",
       "    <tr>\n",
       "      <th>2375</th>\n",
       "      <td>07:01:07.930</td>\n",
       "      <td>29.343638</td>\n",
       "      <td>-94.852295</td>\n",
       "      <td>-704.194402</td>\n",
       "      <td>-11.855212</td>\n",
       "    </tr>\n",
       "    <tr>\n",
       "      <th>2376</th>\n",
       "      <td>07:01:11.529</td>\n",
       "      <td>29.343628</td>\n",
       "      <td>-94.852317</td>\n",
       "      <td>-705.335723</td>\n",
       "      <td>-9.710666</td>\n",
       "    </tr>\n",
       "  </tbody>\n",
       "</table>\n",
       "<p>2377 rows × 5 columns</p>\n",
       "</div>"
      ],
      "text/plain": [
       "          GMT_Time     LO_lat     LO_lon       xN_LO      yW_LO\n",
       "0     04:39:11.630  29.350031 -94.852463    4.467403   4.467403\n",
       "1     04:39:12.630  29.350023 -94.852358    3.589672  -5.704631\n",
       "2     04:39:13.729  29.350016 -94.852365    2.790884  -5.055874\n",
       "3     04:39:15.029  29.350016 -94.852361    2.782582  -5.471702\n",
       "4     04:39:16.329  29.350064 -94.852278    8.111431 -13.519155\n",
       "...            ...        ...        ...         ...        ...\n",
       "2372  07:00:22.729  29.343793 -94.852266 -686.986554 -14.632238\n",
       "2373  07:01:01.829  29.343665 -94.852272 -701.235384 -14.101688\n",
       "2374  07:01:06.730  29.343649 -94.852296 -702.930651 -11.752440\n",
       "2375  07:01:07.930  29.343638 -94.852295 -704.194402 -11.855212\n",
       "2376  07:01:11.529  29.343628 -94.852317 -705.335723  -9.710666\n",
       "\n",
       "[2377 rows x 5 columns]"
      ]
     },
     "execution_count": 12,
     "metadata": {},
     "output_type": "execute_result"
    }
   ],
   "source": [
    "Test3_df1"
   ]
  },
  {
   "cell_type": "code",
   "execution_count": 13,
   "id": "vital-grace",
   "metadata": {},
   "outputs": [
    {
     "data": {
      "text/html": [
       "<div>\n",
       "<style scoped>\n",
       "    .dataframe tbody tr th:only-of-type {\n",
       "        vertical-align: middle;\n",
       "    }\n",
       "\n",
       "    .dataframe tbody tr th {\n",
       "        vertical-align: top;\n",
       "    }\n",
       "\n",
       "    .dataframe thead th {\n",
       "        text-align: right;\n",
       "    }\n",
       "</style>\n",
       "<table border=\"1\" class=\"dataframe\">\n",
       "  <thead>\n",
       "    <tr style=\"text-align: right;\">\n",
       "      <th></th>\n",
       "      <th>GMT_Time</th>\n",
       "      <th>LO_lat</th>\n",
       "      <th>LO_lon</th>\n",
       "      <th>xN_LO</th>\n",
       "      <th>yW_LO</th>\n",
       "    </tr>\n",
       "  </thead>\n",
       "  <tbody>\n",
       "    <tr>\n",
       "      <th>0</th>\n",
       "      <td>04:39:17.429</td>\n",
       "      <td>29.349964</td>\n",
       "      <td>-94.852373</td>\n",
       "      <td>-2.961779</td>\n",
       "      <td>-4.300487</td>\n",
       "    </tr>\n",
       "    <tr>\n",
       "      <th>1</th>\n",
       "      <td>04:39:17.629</td>\n",
       "      <td>29.349961</td>\n",
       "      <td>-94.852369</td>\n",
       "      <td>-3.319180</td>\n",
       "      <td>-4.660037</td>\n",
       "    </tr>\n",
       "    <tr>\n",
       "      <th>2</th>\n",
       "      <td>04:40:41.329</td>\n",
       "      <td>29.349807</td>\n",
       "      <td>-94.852297</td>\n",
       "      <td>-20.421811</td>\n",
       "      <td>-11.671775</td>\n",
       "    </tr>\n",
       "    <tr>\n",
       "      <th>3</th>\n",
       "      <td>04:41:06.629</td>\n",
       "      <td>29.349736</td>\n",
       "      <td>-94.852380</td>\n",
       "      <td>-28.308663</td>\n",
       "      <td>-3.548472</td>\n",
       "    </tr>\n",
       "    <tr>\n",
       "      <th>4</th>\n",
       "      <td>04:41:16.129</td>\n",
       "      <td>29.349727</td>\n",
       "      <td>-94.852380</td>\n",
       "      <td>-29.260255</td>\n",
       "      <td>-3.600913</td>\n",
       "    </tr>\n",
       "    <tr>\n",
       "      <th>...</th>\n",
       "      <td>...</td>\n",
       "      <td>...</td>\n",
       "      <td>...</td>\n",
       "      <td>...</td>\n",
       "      <td>...</td>\n",
       "    </tr>\n",
       "    <tr>\n",
       "      <th>6978</th>\n",
       "      <td>07:00:08.730</td>\n",
       "      <td>29.343857</td>\n",
       "      <td>-94.852340</td>\n",
       "      <td>-679.862011</td>\n",
       "      <td>-7.424534</td>\n",
       "    </tr>\n",
       "    <tr>\n",
       "      <th>6979</th>\n",
       "      <td>07:00:19.828</td>\n",
       "      <td>29.343821</td>\n",
       "      <td>-94.852307</td>\n",
       "      <td>-683.918950</td>\n",
       "      <td>-10.676160</td>\n",
       "    </tr>\n",
       "    <tr>\n",
       "      <th>6980</th>\n",
       "      <td>07:01:13.229</td>\n",
       "      <td>29.343624</td>\n",
       "      <td>-94.852357</td>\n",
       "      <td>-705.712698</td>\n",
       "      <td>-5.861254</td>\n",
       "    </tr>\n",
       "    <tr>\n",
       "      <th>6981</th>\n",
       "      <td>07:01:22.628</td>\n",
       "      <td>29.343614</td>\n",
       "      <td>-94.852430</td>\n",
       "      <td>-706.852104</td>\n",
       "      <td>1.236759</td>\n",
       "    </tr>\n",
       "    <tr>\n",
       "      <th>6982</th>\n",
       "      <td>07:01:24.429</td>\n",
       "      <td>29.343608</td>\n",
       "      <td>-94.852467</td>\n",
       "      <td>-707.544124</td>\n",
       "      <td>4.854241</td>\n",
       "    </tr>\n",
       "  </tbody>\n",
       "</table>\n",
       "<p>6983 rows × 5 columns</p>\n",
       "</div>"
      ],
      "text/plain": [
       "          GMT_Time     LO_lat     LO_lon       xN_LO      yW_LO\n",
       "0     04:39:17.429  29.349964 -94.852373   -2.961779  -4.300487\n",
       "1     04:39:17.629  29.349961 -94.852369   -3.319180  -4.660037\n",
       "2     04:40:41.329  29.349807 -94.852297  -20.421811 -11.671775\n",
       "3     04:41:06.629  29.349736 -94.852380  -28.308663  -3.548472\n",
       "4     04:41:16.129  29.349727 -94.852380  -29.260255  -3.600913\n",
       "...            ...        ...        ...         ...        ...\n",
       "6978  07:00:08.730  29.343857 -94.852340 -679.862011  -7.424534\n",
       "6979  07:00:19.828  29.343821 -94.852307 -683.918950 -10.676160\n",
       "6980  07:01:13.229  29.343624 -94.852357 -705.712698  -5.861254\n",
       "6981  07:01:22.628  29.343614 -94.852430 -706.852104   1.236759\n",
       "6982  07:01:24.429  29.343608 -94.852467 -707.544124   4.854241\n",
       "\n",
       "[6983 rows x 5 columns]"
      ]
     },
     "execution_count": 13,
     "metadata": {},
     "output_type": "execute_result"
    }
   ],
   "source": [
    "Test3_df2"
   ]
  },
  {
   "cell_type": "code",
   "execution_count": 14,
   "id": "failing-looking",
   "metadata": {},
   "outputs": [
    {
     "data": {
      "text/html": [
       "<div>\n",
       "<style scoped>\n",
       "    .dataframe tbody tr th:only-of-type {\n",
       "        vertical-align: middle;\n",
       "    }\n",
       "\n",
       "    .dataframe tbody tr th {\n",
       "        vertical-align: top;\n",
       "    }\n",
       "\n",
       "    .dataframe thead th {\n",
       "        text-align: right;\n",
       "    }\n",
       "</style>\n",
       "<table border=\"1\" class=\"dataframe\">\n",
       "  <thead>\n",
       "    <tr style=\"text-align: right;\">\n",
       "      <th></th>\n",
       "      <th>GMT_Time</th>\n",
       "      <th>LO_lat</th>\n",
       "      <th>LO_lon</th>\n",
       "      <th>xN_LO</th>\n",
       "      <th>yW_LO</th>\n",
       "    </tr>\n",
       "  </thead>\n",
       "  <tbody>\n",
       "    <tr>\n",
       "      <th>0</th>\n",
       "      <td>07:25:52.415</td>\n",
       "      <td>29.343515</td>\n",
       "      <td>-94.851572</td>\n",
       "      <td>12.108710</td>\n",
       "      <td>2.489451</td>\n",
       "    </tr>\n",
       "    <tr>\n",
       "      <th>1</th>\n",
       "      <td>07:25:52.615</td>\n",
       "      <td>29.343515</td>\n",
       "      <td>-94.851571</td>\n",
       "      <td>12.209249</td>\n",
       "      <td>2.402037</td>\n",
       "    </tr>\n",
       "    <tr>\n",
       "      <th>2</th>\n",
       "      <td>07:25:53.214</td>\n",
       "      <td>29.343522</td>\n",
       "      <td>-94.851574</td>\n",
       "      <td>12.960196</td>\n",
       "      <td>2.690566</td>\n",
       "    </tr>\n",
       "    <tr>\n",
       "      <th>3</th>\n",
       "      <td>07:25:54.115</td>\n",
       "      <td>29.343541</td>\n",
       "      <td>-94.851591</td>\n",
       "      <td>15.039582</td>\n",
       "      <td>4.403658</td>\n",
       "    </tr>\n",
       "    <tr>\n",
       "      <th>4</th>\n",
       "      <td>07:25:57.715</td>\n",
       "      <td>29.343557</td>\n",
       "      <td>-94.851591</td>\n",
       "      <td>16.858407</td>\n",
       "      <td>4.334024</td>\n",
       "    </tr>\n",
       "    <tr>\n",
       "      <th>...</th>\n",
       "      <td>...</td>\n",
       "      <td>...</td>\n",
       "      <td>...</td>\n",
       "      <td>...</td>\n",
       "      <td>...</td>\n",
       "    </tr>\n",
       "    <tr>\n",
       "      <th>4125</th>\n",
       "      <td>08:27:57.318</td>\n",
       "      <td>29.338633</td>\n",
       "      <td>-94.850845</td>\n",
       "      <td>-528.998710</td>\n",
       "      <td>-68.102114</td>\n",
       "    </tr>\n",
       "    <tr>\n",
       "      <th>4126</th>\n",
       "      <td>08:27:57.416</td>\n",
       "      <td>29.338641</td>\n",
       "      <td>-94.850857</td>\n",
       "      <td>-528.069250</td>\n",
       "      <td>-66.906449</td>\n",
       "    </tr>\n",
       "    <tr>\n",
       "      <th>4127</th>\n",
       "      <td>08:27:57.516</td>\n",
       "      <td>29.338632</td>\n",
       "      <td>-94.850846</td>\n",
       "      <td>-529.078572</td>\n",
       "      <td>-68.002641</td>\n",
       "    </tr>\n",
       "    <tr>\n",
       "      <th>4128</th>\n",
       "      <td>08:27:57.616</td>\n",
       "      <td>29.338639</td>\n",
       "      <td>-94.850856</td>\n",
       "      <td>-528.285764</td>\n",
       "      <td>-66.981987</td>\n",
       "    </tr>\n",
       "    <tr>\n",
       "      <th>4129</th>\n",
       "      <td>08:27:57.818</td>\n",
       "      <td>29.338627</td>\n",
       "      <td>-94.850840</td>\n",
       "      <td>-529.666013</td>\n",
       "      <td>-68.559826</td>\n",
       "    </tr>\n",
       "  </tbody>\n",
       "</table>\n",
       "<p>4130 rows × 5 columns</p>\n",
       "</div>"
      ],
      "text/plain": [
       "          GMT_Time     LO_lat     LO_lon       xN_LO      yW_LO\n",
       "0     07:25:52.415  29.343515 -94.851572   12.108710   2.489451\n",
       "1     07:25:52.615  29.343515 -94.851571   12.209249   2.402037\n",
       "2     07:25:53.214  29.343522 -94.851574   12.960196   2.690566\n",
       "3     07:25:54.115  29.343541 -94.851591   15.039582   4.403658\n",
       "4     07:25:57.715  29.343557 -94.851591   16.858407   4.334024\n",
       "...            ...        ...        ...         ...        ...\n",
       "4125  08:27:57.318  29.338633 -94.850845 -528.998710 -68.102114\n",
       "4126  08:27:57.416  29.338641 -94.850857 -528.069250 -66.906449\n",
       "4127  08:27:57.516  29.338632 -94.850846 -529.078572 -68.002641\n",
       "4128  08:27:57.616  29.338639 -94.850856 -528.285764 -66.981987\n",
       "4129  08:27:57.818  29.338627 -94.850840 -529.666013 -68.559826\n",
       "\n",
       "[4130 rows x 5 columns]"
      ]
     },
     "execution_count": 14,
     "metadata": {},
     "output_type": "execute_result"
    }
   ],
   "source": [
    "Test3_df3"
   ]
  },
  {
   "cell_type": "code",
   "execution_count": 15,
   "id": "consolidated-scope",
   "metadata": {},
   "outputs": [
    {
     "data": {
      "text/html": [
       "<div>\n",
       "<style scoped>\n",
       "    .dataframe tbody tr th:only-of-type {\n",
       "        vertical-align: middle;\n",
       "    }\n",
       "\n",
       "    .dataframe tbody tr th {\n",
       "        vertical-align: top;\n",
       "    }\n",
       "\n",
       "    .dataframe thead th {\n",
       "        text-align: right;\n",
       "    }\n",
       "</style>\n",
       "<table border=\"1\" class=\"dataframe\">\n",
       "  <thead>\n",
       "    <tr style=\"text-align: right;\">\n",
       "      <th></th>\n",
       "      <th>GMT_Time</th>\n",
       "      <th>LO_lat</th>\n",
       "      <th>LO_lon</th>\n",
       "      <th>xN_LO</th>\n",
       "      <th>yW_LO</th>\n",
       "    </tr>\n",
       "  </thead>\n",
       "  <tbody>\n",
       "    <tr>\n",
       "      <th>0</th>\n",
       "      <td>07:25:59.013</td>\n",
       "      <td>29.343578</td>\n",
       "      <td>-94.851575</td>\n",
       "      <td>19.155308</td>\n",
       "      <td>2.798617</td>\n",
       "    </tr>\n",
       "    <tr>\n",
       "      <th>1</th>\n",
       "      <td>07:26:13.412</td>\n",
       "      <td>29.343577</td>\n",
       "      <td>-94.851628</td>\n",
       "      <td>19.066027</td>\n",
       "      <td>7.986983</td>\n",
       "    </tr>\n",
       "    <tr>\n",
       "      <th>2</th>\n",
       "      <td>07:26:16.912</td>\n",
       "      <td>29.343564</td>\n",
       "      <td>-94.851638</td>\n",
       "      <td>17.581855</td>\n",
       "      <td>8.934582</td>\n",
       "    </tr>\n",
       "    <tr>\n",
       "      <th>3</th>\n",
       "      <td>07:26:20.511</td>\n",
       "      <td>29.343554</td>\n",
       "      <td>-94.851645</td>\n",
       "      <td>16.438914</td>\n",
       "      <td>9.574159</td>\n",
       "    </tr>\n",
       "    <tr>\n",
       "      <th>4</th>\n",
       "      <td>07:26:21.712</td>\n",
       "      <td>29.343553</td>\n",
       "      <td>-94.851646</td>\n",
       "      <td>16.375633</td>\n",
       "      <td>9.730395</td>\n",
       "    </tr>\n",
       "    <tr>\n",
       "      <th>...</th>\n",
       "      <td>...</td>\n",
       "      <td>...</td>\n",
       "      <td>...</td>\n",
       "      <td>...</td>\n",
       "      <td>...</td>\n",
       "    </tr>\n",
       "    <tr>\n",
       "      <th>844</th>\n",
       "      <td>08:27:52.697</td>\n",
       "      <td>29.338693</td>\n",
       "      <td>-94.850926</td>\n",
       "      <td>-522.326028</td>\n",
       "      <td>-60.204184</td>\n",
       "    </tr>\n",
       "    <tr>\n",
       "      <th>845</th>\n",
       "      <td>08:27:56.397</td>\n",
       "      <td>29.338641</td>\n",
       "      <td>-94.850877</td>\n",
       "      <td>-528.125520</td>\n",
       "      <td>-65.007855</td>\n",
       "    </tr>\n",
       "    <tr>\n",
       "      <th>846</th>\n",
       "      <td>08:28:07.297</td>\n",
       "      <td>29.338452</td>\n",
       "      <td>-94.850749</td>\n",
       "      <td>-549.010563</td>\n",
       "      <td>-77.450530</td>\n",
       "    </tr>\n",
       "    <tr>\n",
       "      <th>847</th>\n",
       "      <td>08:28:16.997</td>\n",
       "      <td>29.338341</td>\n",
       "      <td>-94.850592</td>\n",
       "      <td>-561.360872</td>\n",
       "      <td>-92.645394</td>\n",
       "    </tr>\n",
       "    <tr>\n",
       "      <th>848</th>\n",
       "      <td>08:28:31.296</td>\n",
       "      <td>29.338163</td>\n",
       "      <td>-94.850360</td>\n",
       "      <td>-581.020175</td>\n",
       "      <td>-115.170234</td>\n",
       "    </tr>\n",
       "  </tbody>\n",
       "</table>\n",
       "<p>849 rows × 5 columns</p>\n",
       "</div>"
      ],
      "text/plain": [
       "         GMT_Time     LO_lat     LO_lon       xN_LO       yW_LO\n",
       "0    07:25:59.013  29.343578 -94.851575   19.155308    2.798617\n",
       "1    07:26:13.412  29.343577 -94.851628   19.066027    7.986983\n",
       "2    07:26:16.912  29.343564 -94.851638   17.581855    8.934582\n",
       "3    07:26:20.511  29.343554 -94.851645   16.438914    9.574159\n",
       "4    07:26:21.712  29.343553 -94.851646   16.375633    9.730395\n",
       "..            ...        ...        ...         ...         ...\n",
       "844  08:27:52.697  29.338693 -94.850926 -522.326028  -60.204184\n",
       "845  08:27:56.397  29.338641 -94.850877 -528.125520  -65.007855\n",
       "846  08:28:07.297  29.338452 -94.850749 -549.010563  -77.450530\n",
       "847  08:28:16.997  29.338341 -94.850592 -561.360872  -92.645394\n",
       "848  08:28:31.296  29.338163 -94.850360 -581.020175 -115.170234\n",
       "\n",
       "[849 rows x 5 columns]"
      ]
     },
     "execution_count": 15,
     "metadata": {},
     "output_type": "execute_result"
    }
   ],
   "source": [
    "Test3_df4"
   ]
  },
  {
   "cell_type": "code",
   "execution_count": 601,
   "id": "simple-battlefield",
   "metadata": {},
   "outputs": [
    {
     "data": {
      "image/png": "[encoded data removed]",
      "text/plain": [
       "<Figure size 432x288 with 1 Axes>"
      ]
     },
     "metadata": {
      "needs_background": "light"
     },
     "output_type": "display_data"
    }
   ],
   "source": [
    "plt.plot(-Test3_df4['yW_LO'], Test3_df4['xN_LO'],'-om')\n",
    "plt.xlabel('E-W (m)')\n",
    "plt.ylabel('N-S (m)')\n",
    "plt.title('Oscar1 16.38 GMT- 19.01 GMT (0 is location of boat at initial time)')\n",
    "plt.savefig('traj1-pelican.png')\n",
    "plt.show()"
   ]
  },
  {
   "cell_type": "code",
   "execution_count": 603,
   "id": "martial-labor",
   "metadata": {},
   "outputs": [
    {
     "data": {
      "image/png": "[encoded data removed]",
      "text/plain": [
       "<Figure size 432x288 with 1 Axes>"
      ]
     },
     "metadata": {
      "needs_background": "light"
     },
     "output_type": "display_data"
    }
   ],
   "source": [
    "plt.scatter(Test3_df4['LO_lon'], Test3_df4['LO_lat'])\n",
    "plt.xlabel('Lat')\n",
    "plt.ylabel('lon')\n",
    "plt.title('Oscar1 16.38 GMT - 19.01 GMT')\n",
    "plt.savefig('traj2-pelican.png')\n",
    "plt.show()"
   ]
  },
  {
   "cell_type": "code",
   "execution_count": 18,
   "id": "posted-belfast",
   "metadata": {},
   "outputs": [
    {
     "data": {
      "text/plain": [
       "(29.343627572100097, 29.350081572455395)"
      ]
     },
     "execution_count": 18,
     "metadata": {},
     "output_type": "execute_result"
    }
   ],
   "source": [
    "min(Test3_df1.LO_lat),max(Test3_df1.LO_lat)"
   ]
  },
  {
   "cell_type": "code",
   "execution_count": 604,
   "id": "characteristic-example",
   "metadata": {},
   "outputs": [],
   "source": [
    "Test3_df4[\"GMT_Time\"] = pd.to_datetime(Test3_df4['GMT_Time'])"
   ]
  },
  {
   "cell_type": "code",
   "execution_count": 162,
   "id": "marked-douglas",
   "metadata": {},
   "outputs": [],
   "source": [
    "Test3_df1[\"hour\"]=Test3_df1[\"GMT_Time\"].dt.hour\n",
    "Test3_df1[\"minute\"]=Test3_df1[\"GMT_Time\"].dt.minute\n",
    "Test3_df1[\"second\"]=Test3_df1[\"GMT_Time\"].dt.second\n",
    "Test3_df1[\"microsecond\"]=Test3_df1[\"GMT_Time\"].dt.microsecond\n",
    "Test3_df1[\"day\"]=Test3_df1[\"GMT_Time\"].dt.day\n",
    "Test3_df1[\"year\"]=Test3_df1[\"GMT_Time\"].dt.year\n",
    "Test3_df1[\"month\"]=Test3_df1[\"GMT_Time\"].dt.month"
   ]
  },
  {
   "cell_type": "code",
   "execution_count": 605,
   "id": "rubber-chain",
   "metadata": {},
   "outputs": [
    {
     "data": {
      "text/html": [
       "<div>\n",
       "<style scoped>\n",
       "    .dataframe tbody tr th:only-of-type {\n",
       "        vertical-align: middle;\n",
       "    }\n",
       "\n",
       "    .dataframe tbody tr th {\n",
       "        vertical-align: top;\n",
       "    }\n",
       "\n",
       "    .dataframe thead th {\n",
       "        text-align: right;\n",
       "    }\n",
       "</style>\n",
       "<table border=\"1\" class=\"dataframe\">\n",
       "  <thead>\n",
       "    <tr style=\"text-align: right;\">\n",
       "      <th></th>\n",
       "      <th>GMT_Time</th>\n",
       "      <th>LO_lat</th>\n",
       "      <th>LO_lon</th>\n",
       "      <th>xN_LO</th>\n",
       "      <th>yW_LO</th>\n",
       "    </tr>\n",
       "  </thead>\n",
       "  <tbody>\n",
       "    <tr>\n",
       "      <th>0</th>\n",
       "      <td>2021-05-11 07:25:59.013</td>\n",
       "      <td>29.343578</td>\n",
       "      <td>-94.851575</td>\n",
       "      <td>19.155308</td>\n",
       "      <td>2.798617</td>\n",
       "    </tr>\n",
       "    <tr>\n",
       "      <th>1</th>\n",
       "      <td>2021-05-11 07:26:13.412</td>\n",
       "      <td>29.343577</td>\n",
       "      <td>-94.851628</td>\n",
       "      <td>19.066027</td>\n",
       "      <td>7.986983</td>\n",
       "    </tr>\n",
       "    <tr>\n",
       "      <th>2</th>\n",
       "      <td>2021-05-11 07:26:16.912</td>\n",
       "      <td>29.343564</td>\n",
       "      <td>-94.851638</td>\n",
       "      <td>17.581855</td>\n",
       "      <td>8.934582</td>\n",
       "    </tr>\n",
       "    <tr>\n",
       "      <th>3</th>\n",
       "      <td>2021-05-11 07:26:20.511</td>\n",
       "      <td>29.343554</td>\n",
       "      <td>-94.851645</td>\n",
       "      <td>16.438914</td>\n",
       "      <td>9.574159</td>\n",
       "    </tr>\n",
       "    <tr>\n",
       "      <th>4</th>\n",
       "      <td>2021-05-11 07:26:21.712</td>\n",
       "      <td>29.343553</td>\n",
       "      <td>-94.851646</td>\n",
       "      <td>16.375633</td>\n",
       "      <td>9.730395</td>\n",
       "    </tr>\n",
       "    <tr>\n",
       "      <th>...</th>\n",
       "      <td>...</td>\n",
       "      <td>...</td>\n",
       "      <td>...</td>\n",
       "      <td>...</td>\n",
       "      <td>...</td>\n",
       "    </tr>\n",
       "    <tr>\n",
       "      <th>844</th>\n",
       "      <td>2021-05-11 08:27:52.697</td>\n",
       "      <td>29.338693</td>\n",
       "      <td>-94.850926</td>\n",
       "      <td>-522.326028</td>\n",
       "      <td>-60.204184</td>\n",
       "    </tr>\n",
       "    <tr>\n",
       "      <th>845</th>\n",
       "      <td>2021-05-11 08:27:56.397</td>\n",
       "      <td>29.338641</td>\n",
       "      <td>-94.850877</td>\n",
       "      <td>-528.125520</td>\n",
       "      <td>-65.007855</td>\n",
       "    </tr>\n",
       "    <tr>\n",
       "      <th>846</th>\n",
       "      <td>2021-05-11 08:28:07.297</td>\n",
       "      <td>29.338452</td>\n",
       "      <td>-94.850749</td>\n",
       "      <td>-549.010563</td>\n",
       "      <td>-77.450530</td>\n",
       "    </tr>\n",
       "    <tr>\n",
       "      <th>847</th>\n",
       "      <td>2021-05-11 08:28:16.997</td>\n",
       "      <td>29.338341</td>\n",
       "      <td>-94.850592</td>\n",
       "      <td>-561.360872</td>\n",
       "      <td>-92.645394</td>\n",
       "    </tr>\n",
       "    <tr>\n",
       "      <th>848</th>\n",
       "      <td>2021-05-11 08:28:31.296</td>\n",
       "      <td>29.338163</td>\n",
       "      <td>-94.850360</td>\n",
       "      <td>-581.020175</td>\n",
       "      <td>-115.170234</td>\n",
       "    </tr>\n",
       "  </tbody>\n",
       "</table>\n",
       "<p>849 rows × 5 columns</p>\n",
       "</div>"
      ],
      "text/plain": [
       "                   GMT_Time     LO_lat     LO_lon       xN_LO       yW_LO\n",
       "0   2021-05-11 07:25:59.013  29.343578 -94.851575   19.155308    2.798617\n",
       "1   2021-05-11 07:26:13.412  29.343577 -94.851628   19.066027    7.986983\n",
       "2   2021-05-11 07:26:16.912  29.343564 -94.851638   17.581855    8.934582\n",
       "3   2021-05-11 07:26:20.511  29.343554 -94.851645   16.438914    9.574159\n",
       "4   2021-05-11 07:26:21.712  29.343553 -94.851646   16.375633    9.730395\n",
       "..                      ...        ...        ...         ...         ...\n",
       "844 2021-05-11 08:27:52.697  29.338693 -94.850926 -522.326028  -60.204184\n",
       "845 2021-05-11 08:27:56.397  29.338641 -94.850877 -528.125520  -65.007855\n",
       "846 2021-05-11 08:28:07.297  29.338452 -94.850749 -549.010563  -77.450530\n",
       "847 2021-05-11 08:28:16.997  29.338341 -94.850592 -561.360872  -92.645394\n",
       "848 2021-05-11 08:28:31.296  29.338163 -94.850360 -581.020175 -115.170234\n",
       "\n",
       "[849 rows x 5 columns]"
      ]
     },
     "execution_count": 605,
     "metadata": {},
     "output_type": "execute_result"
    }
   ],
   "source": [
    "Test3_df4"
   ]
  },
  {
   "cell_type": "code",
   "execution_count": 869,
   "id": "steady-petersburg",
   "metadata": {},
   "outputs": [],
   "source": [
    "df=pd.DataFrame(Test3_df4)\n",
    "df['secvalue']=df.GMT_Time.astype(np.int64)/1e+9\n",
    "df['slopex']=df['xN_LO'].diff()/df['secvalue'].diff()\n",
    "df['slopey']=-df['yW_LO'].diff()/df['secvalue'].diff()\n"
   ]
  },
  {
   "cell_type": "code",
   "execution_count": 740,
   "id": "above-compression",
   "metadata": {},
   "outputs": [],
   "source": [
    "sx1=df.slopex*df.slopex\n",
    "sx2=df.slopey*df.slopey\n",
    "lwv= np.sqrt(sx1+sx2)\n",
    "df['lwv']= lwv"
   ]
  },
  {
   "cell_type": "code",
   "execution_count": 745,
   "id": "brown-snapshot",
   "metadata": {},
   "outputs": [
    {
     "data": {
      "text/plain": [
       "0           NaN\n",
       "1      0.360382\n",
       "2      0.503110\n",
       "3      0.363913\n",
       "4      0.140354\n",
       "         ...   \n",
       "844    2.074305\n",
       "845    2.035287\n",
       "846    2.230330\n",
       "847    2.018656\n",
       "848    2.090876\n",
       "Name: lwv, Length: 849, dtype: float64"
      ]
     },
     "execution_count": 745,
     "metadata": {},
     "output_type": "execute_result"
    }
   ],
   "source": [
    "df.lwv"
   ]
  },
  {
   "cell_type": "code",
   "execution_count": null,
   "id": "final-eight",
   "metadata": {},
   "outputs": [],
   "source": []
  },
  {
   "cell_type": "code",
   "execution_count": 615,
   "id": "sought-letter",
   "metadata": {},
   "outputs": [
    {
     "data": {
      "text/plain": [
       "Text(0, 0.5, 'Drift velocity along E-W')"
      ]
     },
     "execution_count": 615,
     "metadata": {},
     "output_type": "execute_result"
    },
    {
     "data": {
      "image/png": "[encoded data removed]",
      "text/plain": [
       "<Figure size 432x288 with 1 Axes>"
      ]
     },
     "metadata": {
      "needs_background": "light"
     },
     "output_type": "display_data"
    }
   ],
   "source": [
    "fig, ax = plt.subplots()\n",
    "ax.plot(df.GMT_Time[30:800:10],df.slopey[30:800:10],'o')\n",
    "plt.rcParams[\"date.autoformatter.minute\"] = \"%H:%M:%S\"\n",
    "ax.xaxis.set_major_formatter(mdates.DateFormatter(\"%H-%M:%S\"))\n",
    "ax.xaxis.set_minor_formatter(mdates.DateFormatter(\"%H-%M-%S\"))\n",
    "_=plt.xticks(rotation=90)    \n",
    "plt.xlabel('GMT Time')\n",
    "plt.ylabel('Drift velocity along E-W')"
   ]
  },
  {
   "cell_type": "code",
   "execution_count": null,
   "id": "flying-configuration",
   "metadata": {},
   "outputs": [],
   "source": []
  },
  {
   "cell_type": "code",
   "execution_count": 616,
   "id": "enormous-treatment",
   "metadata": {},
   "outputs": [
    {
     "data": {
      "image/png": "[encoded data removed]",
      "text/plain": [
       "<Figure size 432x288 with 1 Axes>"
      ]
     },
     "metadata": {
      "needs_background": "light"
     },
     "output_type": "display_data"
    }
   ],
   "source": [
    "fig, ax = plt.subplots()\n",
    "ax.plot(df.GMT_Time[30:800:10],df.slopex[30:800:10],'go')\n",
    "ax.xaxis.set_major_formatter(mdates.DateFormatter(\"%H-%M:%S\"))\n",
    "ax.xaxis.set_minor_formatter(mdates.DateFormatter(\"%H-%M-%S\"))\n",
    "_=plt.xticks(rotation=90) "
   ]
  },
  {
   "cell_type": "code",
   "execution_count": 617,
   "id": "basic-enforcement",
   "metadata": {},
   "outputs": [],
   "source": [
    "wd1=pd.read_csv('Galveston3_Part1_processed.csv')\n",
    "wf1=pd.read_csv('Galveston3_Part2_processed.csv')"
   ]
  },
  {
   "cell_type": "code",
   "execution_count": 618,
   "id": "thirty-pennsylvania",
   "metadata": {},
   "outputs": [],
   "source": [
    "wd1_dna=wd1.dropna()\n",
    "wf1_dna=wf1.dropna()"
   ]
  },
  {
   "cell_type": "code",
   "execution_count": 754,
   "id": "lesser-revelation",
   "metadata": {},
   "outputs": [],
   "source": [
    "wf2=wf1_dna[1:35060:41]"
   ]
  },
  {
   "cell_type": "code",
   "execution_count": 755,
   "id": "hungry-singer",
   "metadata": {},
   "outputs": [
    {
     "data": {
      "text/html": [
       "<div>\n",
       "<style scoped>\n",
       "    .dataframe tbody tr th:only-of-type {\n",
       "        vertical-align: middle;\n",
       "    }\n",
       "\n",
       "    .dataframe tbody tr th {\n",
       "        vertical-align: top;\n",
       "    }\n",
       "\n",
       "    .dataframe thead th {\n",
       "        text-align: right;\n",
       "    }\n",
       "</style>\n",
       "<table border=\"1\" class=\"dataframe\">\n",
       "  <thead>\n",
       "    <tr style=\"text-align: right;\">\n",
       "      <th></th>\n",
       "      <th>time</th>\n",
       "      <th>wind_x_velocity</th>\n",
       "      <th>wind_y_velocity</th>\n",
       "      <th>wind_speed</th>\n",
       "      <th>heading</th>\n",
       "      <th>latitude</th>\n",
       "      <th>longitude</th>\n",
       "      <th>wind_polar_r</th>\n",
       "      <th>wind_polar_radians</th>\n",
       "    </tr>\n",
       "  </thead>\n",
       "  <tbody>\n",
       "    <tr>\n",
       "      <th>1</th>\n",
       "      <td>2021-04-18 19:25:43.962617383</td>\n",
       "      <td>-7.658694</td>\n",
       "      <td>1.69145</td>\n",
       "      <td>7.843253</td>\n",
       "      <td>174.398</td>\n",
       "      <td>29.343408</td>\n",
       "      <td>-94.851546</td>\n",
       "      <td>7.843253</td>\n",
       "      <td>0.930811</td>\n",
       "    </tr>\n",
       "    <tr>\n",
       "      <th>42</th>\n",
       "      <td>2021-04-18 19:25:48.058158317</td>\n",
       "      <td>-7.714459</td>\n",
       "      <td>0.99344</td>\n",
       "      <td>7.778161</td>\n",
       "      <td>171.858</td>\n",
       "      <td>29.343460</td>\n",
       "      <td>-94.851551</td>\n",
       "      <td>7.778161</td>\n",
       "      <td>0.959234</td>\n",
       "    </tr>\n",
       "    <tr>\n",
       "      <th>83</th>\n",
       "      <td>2021-04-18 19:25:52.158068553</td>\n",
       "      <td>-7.445840</td>\n",
       "      <td>0.52952</td>\n",
       "      <td>7.464645</td>\n",
       "      <td>165.912</td>\n",
       "      <td>29.343512</td>\n",
       "      <td>-94.851561</td>\n",
       "      <td>7.464645</td>\n",
       "      <td>0.977401</td>\n",
       "    </tr>\n",
       "    <tr>\n",
       "      <th>124</th>\n",
       "      <td>2021-04-18 19:25:56.458171914</td>\n",
       "      <td>-7.070463</td>\n",
       "      <td>-2.23023</td>\n",
       "      <td>6.854518</td>\n",
       "      <td>147.636</td>\n",
       "      <td>29.343548</td>\n",
       "      <td>-94.851577</td>\n",
       "      <td>7.413862</td>\n",
       "      <td>1.097260</td>\n",
       "    </tr>\n",
       "    <tr>\n",
       "      <th>165</th>\n",
       "      <td>2021-04-18 19:26:00.659453437</td>\n",
       "      <td>-4.939606</td>\n",
       "      <td>2.70945</td>\n",
       "      <td>5.427279</td>\n",
       "      <td>127.845</td>\n",
       "      <td>29.343566</td>\n",
       "      <td>-94.851594</td>\n",
       "      <td>5.633902</td>\n",
       "      <td>0.840303</td>\n",
       "    </tr>\n",
       "    <tr>\n",
       "      <th>...</th>\n",
       "      <td>...</td>\n",
       "      <td>...</td>\n",
       "      <td>...</td>\n",
       "      <td>...</td>\n",
       "      <td>...</td>\n",
       "      <td>...</td>\n",
       "      <td>...</td>\n",
       "      <td>...</td>\n",
       "      <td>...</td>\n",
       "    </tr>\n",
       "    <tr>\n",
       "      <th>34892</th>\n",
       "      <td>2021-04-18 20:26:03.663650324</td>\n",
       "      <td>-7.020082</td>\n",
       "      <td>-0.97295</td>\n",
       "      <td>6.679126</td>\n",
       "      <td>341.153</td>\n",
       "      <td>29.339998</td>\n",
       "      <td>-94.851966</td>\n",
       "      <td>7.087184</td>\n",
       "      <td>1.043837</td>\n",
       "    </tr>\n",
       "    <tr>\n",
       "      <th>34933</th>\n",
       "      <td>2021-04-18 20:26:07.764863910</td>\n",
       "      <td>-5.886228</td>\n",
       "      <td>-1.22752</td>\n",
       "      <td>6.391394</td>\n",
       "      <td>319.025</td>\n",
       "      <td>29.339968</td>\n",
       "      <td>-94.851958</td>\n",
       "      <td>6.012860</td>\n",
       "      <td>1.065443</td>\n",
       "    </tr>\n",
       "    <tr>\n",
       "      <th>34974</th>\n",
       "      <td>2021-04-18 20:26:12.159771117</td>\n",
       "      <td>-5.884392</td>\n",
       "      <td>3.32349</td>\n",
       "      <td>6.273921</td>\n",
       "      <td>320.105</td>\n",
       "      <td>29.339936</td>\n",
       "      <td>-94.851936</td>\n",
       "      <td>6.758081</td>\n",
       "      <td>0.836346</td>\n",
       "    </tr>\n",
       "    <tr>\n",
       "      <th>35015</th>\n",
       "      <td>2021-04-18 20:26:16.258366674</td>\n",
       "      <td>-5.794406</td>\n",
       "      <td>3.39045</td>\n",
       "      <td>6.177235</td>\n",
       "      <td>323.610</td>\n",
       "      <td>29.339908</td>\n",
       "      <td>-94.851911</td>\n",
       "      <td>6.713442</td>\n",
       "      <td>0.831484</td>\n",
       "    </tr>\n",
       "    <tr>\n",
       "      <th>35056</th>\n",
       "      <td>2021-04-18 20:26:20.359509793</td>\n",
       "      <td>-4.916331</td>\n",
       "      <td>2.45606</td>\n",
       "      <td>6.214556</td>\n",
       "      <td>322.150</td>\n",
       "      <td>29.339875</td>\n",
       "      <td>-94.851887</td>\n",
       "      <td>5.495686</td>\n",
       "      <td>0.852525</td>\n",
       "    </tr>\n",
       "  </tbody>\n",
       "</table>\n",
       "<p>856 rows × 9 columns</p>\n",
       "</div>"
      ],
      "text/plain": [
       "                                time  wind_x_velocity  wind_y_velocity  \\\n",
       "1      2021-04-18 19:25:43.962617383        -7.658694          1.69145   \n",
       "42     2021-04-18 19:25:48.058158317        -7.714459          0.99344   \n",
       "83     2021-04-18 19:25:52.158068553        -7.445840          0.52952   \n",
       "124    2021-04-18 19:25:56.458171914        -7.070463         -2.23023   \n",
       "165    2021-04-18 19:26:00.659453437        -4.939606          2.70945   \n",
       "...                              ...              ...              ...   \n",
       "34892  2021-04-18 20:26:03.663650324        -7.020082         -0.97295   \n",
       "34933  2021-04-18 20:26:07.764863910        -5.886228         -1.22752   \n",
       "34974  2021-04-18 20:26:12.159771117        -5.884392          3.32349   \n",
       "35015  2021-04-18 20:26:16.258366674        -5.794406          3.39045   \n",
       "35056  2021-04-18 20:26:20.359509793        -4.916331          2.45606   \n",
       "\n",
       "       wind_speed  heading   latitude  longitude  wind_polar_r  \\\n",
       "1        7.843253  174.398  29.343408 -94.851546      7.843253   \n",
       "42       7.778161  171.858  29.343460 -94.851551      7.778161   \n",
       "83       7.464645  165.912  29.343512 -94.851561      7.464645   \n",
       "124      6.854518  147.636  29.343548 -94.851577      7.413862   \n",
       "165      5.427279  127.845  29.343566 -94.851594      5.633902   \n",
       "...           ...      ...        ...        ...           ...   \n",
       "34892    6.679126  341.153  29.339998 -94.851966      7.087184   \n",
       "34933    6.391394  319.025  29.339968 -94.851958      6.012860   \n",
       "34974    6.273921  320.105  29.339936 -94.851936      6.758081   \n",
       "35015    6.177235  323.610  29.339908 -94.851911      6.713442   \n",
       "35056    6.214556  322.150  29.339875 -94.851887      5.495686   \n",
       "\n",
       "       wind_polar_radians  \n",
       "1                0.930811  \n",
       "42               0.959234  \n",
       "83               0.977401  \n",
       "124              1.097260  \n",
       "165              0.840303  \n",
       "...                   ...  \n",
       "34892            1.043837  \n",
       "34933            1.065443  \n",
       "34974            0.836346  \n",
       "35015            0.831484  \n",
       "35056            0.852525  \n",
       "\n",
       "[856 rows x 9 columns]"
      ]
     },
     "execution_count": 755,
     "metadata": {},
     "output_type": "execute_result"
    }
   ],
   "source": [
    "wf2"
   ]
  },
  {
   "cell_type": "code",
   "execution_count": 756,
   "id": "graphic-prior",
   "metadata": {},
   "outputs": [
    {
     "data": {
      "text/plain": [
       "1        7.843253\n",
       "42       7.778161\n",
       "83       7.464645\n",
       "124      6.854518\n",
       "165      5.427279\n",
       "           ...   \n",
       "34892    6.679126\n",
       "34933    6.391394\n",
       "34974    6.273921\n",
       "35015    6.177235\n",
       "35056    6.214556\n",
       "Name: wind_speed, Length: 856, dtype: float64"
      ]
     },
     "execution_count": 756,
     "metadata": {},
     "output_type": "execute_result"
    }
   ],
   "source": [
    "wf2.wind_speed"
   ]
  },
  {
   "cell_type": "code",
   "execution_count": 790,
   "id": "light-moral",
   "metadata": {},
   "outputs": [
    {
     "data": {
      "text/plain": [
       "nan"
      ]
     },
     "execution_count": 790,
     "metadata": {},
     "output_type": "execute_result"
    }
   ],
   "source": [
    "angle"
   ]
  },
  {
   "cell_type": "code",
   "execution_count": 757,
   "id": "emotional-complement",
   "metadata": {},
   "outputs": [],
   "source": [
    "df[\"driftx\"]=df.slopex/wf2.wind_x_velocity\n",
    "df[\"drifty\"]=df.slopey/wf2.wind_y_velocity\n",
    "df[\"driftx_ws\"]=df.slopex[1:856]/wf2.wind_speed\n",
    "df[\"drifty_ws\"]=df.slopey[1:856]/wf2.wind_speed"
   ]
  },
  {
   "cell_type": "code",
   "execution_count": 758,
   "id": "unique-sequence",
   "metadata": {},
   "outputs": [
    {
     "data": {
      "text/plain": [
       "[<matplotlib.lines.Line2D at 0x7f95469edc40>]"
      ]
     },
     "execution_count": 758,
     "metadata": {},
     "output_type": "execute_result"
    },
    {
     "data": {
      "image/png": "[encoded data removed]",
      "text/plain": [
       "<Figure size 432x288 with 1 Axes>"
      ]
     },
     "metadata": {
      "needs_background": "light"
     },
     "output_type": "display_data"
    }
   ],
   "source": [
    "plt.plot(df.GMT_Time[1:848],wf2.wind_speed[1:848])"
   ]
  },
  {
   "cell_type": "code",
   "execution_count": 759,
   "id": "empirical-peripheral",
   "metadata": {},
   "outputs": [],
   "source": [
    "driftx_new=df.driftx.dropna()\n",
    "drifty_new=df.drifty.dropna()\n",
    "driftx_ws_new=df.driftx_ws.dropna()\n",
    "drifty_ws_new=df.drifty_ws.dropna()"
   ]
  },
  {
   "cell_type": "code",
   "execution_count": 763,
   "id": "patent-canadian",
   "metadata": {},
   "outputs": [],
   "source": [
    "test1=wf2.wind_speed[1:849]\n",
    "test2=df.lwv[1:849]\n",
    "model1=np.polyfit(test1,test2,1)\n",
    "modelx=np.polyfit(wf2.wind_x_velocity[1:849], -df.slopex[1:849],1)\n",
    "modely=np.polyfit(wf2.wind_y_velocity[1:849], df.slopey[1:849],1)"
   ]
  },
  {
   "cell_type": "code",
   "execution_count": 761,
   "id": "demanding-punch",
   "metadata": {},
   "outputs": [
    {
     "data": {
      "text/plain": [
       "42       7.778161\n",
       "83       7.464645\n",
       "124      6.854518\n",
       "165      5.427279\n",
       "206      6.346889\n",
       "           ...   \n",
       "34605    5.330980\n",
       "34646    4.897217\n",
       "34687    5.835178\n",
       "34728    4.771823\n",
       "34769    5.193360\n",
       "Name: wind_speed, Length: 842, dtype: float64"
      ]
     },
     "execution_count": 761,
     "metadata": {},
     "output_type": "execute_result"
    }
   ],
   "source": [
    "test1[wf2.wind_speed>2.0]"
   ]
  },
  {
   "cell_type": "code",
   "execution_count": 764,
   "id": "extra-corrections",
   "metadata": {},
   "outputs": [
    {
     "data": {
      "text/plain": [
       "(array([0.09531443, 0.71036113]),\n",
       " array([0.21445385, 1.31934326]),\n",
       " array([0.01994101, 0.01452055]))"
      ]
     },
     "execution_count": 764,
     "metadata": {},
     "output_type": "execute_result"
    }
   ],
   "source": [
    "model1,modelx,modely"
   ]
  },
  {
   "cell_type": "code",
   "execution_count": 765,
   "id": "talented-mistress",
   "metadata": {},
   "outputs": [
    {
     "data": {
      "text/plain": [
       "(0.0, 5.0)"
      ]
     },
     "execution_count": 765,
     "metadata": {},
     "output_type": "execute_result"
    },
    {
     "data": {
      "image/png": "[encoded data removed]",
      "text/plain": [
       "<Figure size 432x288 with 1 Axes>"
      ]
     },
     "metadata": {
      "needs_background": "light"
     },
     "output_type": "display_data"
    }
   ],
   "source": [
    "predict1=np.poly1d(model1)\n",
    "predictx=np.poly1d(modelx)\n",
    "predicty=np.poly1d(modely)\n",
    "\n",
    "x1=np.arange(0,12,12./849.)\n",
    "y1=predict1(x1)\n",
    "yx=predictx(x1)\n",
    "yy=predicty(x1)\n",
    "plt.plot(x1,y1,c='r')\n",
    "plt.scatter(wf2.wind_speed[1:849],df.lwv[1:849])\n",
    "plt.ylim((0,5))"
   ]
  },
  {
   "cell_type": "code",
   "execution_count": 766,
   "id": "textile-surname",
   "metadata": {},
   "outputs": [
    {
     "data": {
      "text/plain": [
       "<matplotlib.collections.PathCollection at 0x7f9545ee66d0>"
      ]
     },
     "execution_count": 766,
     "metadata": {},
     "output_type": "execute_result"
    },
    {
     "data": {
      "image/png": "[encoded data removed]",
      "text/plain": [
       "<Figure size 432x288 with 1 Axes>"
      ]
     },
     "metadata": {
      "needs_background": "light"
     },
     "output_type": "display_data"
    }
   ],
   "source": [
    "plt.plot(x1,yx,c='m')\n",
    "plt.scatter((-wf2.wind_speed[1:849]),(df.slopex[1:849]))"
   ]
  },
  {
   "cell_type": "markdown",
   "id": "compressed-cotton",
   "metadata": {},
   "source": [
    "ssr = np.sum((y1 - df.lwv[1:849])**2)\n",
    "\n",
    "sst = np.sum((df.lwv[1:849] - np.mean(df.lwv[1:849]))**2)\n",
    "\n",
    "r2_score = 1 - (ssr/sst)"
   ]
  },
  {
   "cell_type": "code",
   "execution_count": 767,
   "id": "wired-specification",
   "metadata": {},
   "outputs": [
    {
     "data": {
      "text/plain": [
       "0.031752794734012046"
      ]
     },
     "execution_count": 767,
     "metadata": {},
     "output_type": "execute_result"
    }
   ],
   "source": [
    "r2_score"
   ]
  },
  {
   "cell_type": "code",
   "execution_count": 768,
   "id": "coupled-commerce",
   "metadata": {},
   "outputs": [
    {
     "data": {
      "text/plain": [
       "array([[1.        , 0.12472158],\n",
       "       [0.12472158, 1.        ]])"
      ]
     },
     "execution_count": 768,
     "metadata": {},
     "output_type": "execute_result"
    }
   ],
   "source": [
    "np.corrcoef(df.lwv[1:849],wf2.wind_speed[1:849])"
   ]
  },
  {
   "cell_type": "code",
   "execution_count": 775,
   "id": "adapted-myrtle",
   "metadata": {},
   "outputs": [
    {
     "data": {
      "image/png": "[encoded data removed]",
      "text/plain": [
       "<Figure size 432x288 with 1 Axes>"
      ]
     },
     "metadata": {
      "needs_background": "light"
     },
     "output_type": "display_data"
    }
   ],
   "source": [
    "plt.plot(df.GMT_Time[1:800], wf2.wind_speed[1:800],'r',label='windspeed (Mean=6.67m/s,std=1.7m/s)')\n",
    "plt.plot(df.GMT_Time[1:800], (df.lwv[1:800]),label='leewayspeed (Mean=1.3m/s,std=1.28m/s)')\n",
    "plt.plot(df.GMT_Time[1:800], (df.lwv[1:800]-0.88),label='drift')\n",
    "plt.legend()\n",
    "plt.xlabel('GMT')\n",
    "plt.ylabel('speed m/s')\n",
    "plt.title('Pelican:lws/ws=0.19, ld/ws=0.08')\n",
    "plt.savefig(\"lwdset2.png\")"
   ]
  },
  {
   "cell_type": "code",
   "execution_count": 774,
   "id": "interior-parks",
   "metadata": {},
   "outputs": [
    {
     "data": {
      "text/plain": [
       "(6.670748196943172,\n",
       " 1.7189571124103495,\n",
       " 0.19402985074626866,\n",
       " 0.0803030303030303,\n",
       " 0.534667448856788,\n",
       " 1.2842900119112772)"
      ]
     },
     "execution_count": 774,
     "metadata": {},
     "output_type": "execute_result"
    }
   ],
   "source": [
    "np.mean(wf2.wind_speed[1:800]), np.std(wf2.wind_speed[1:800]),1.3/6.7,0.53/6.6,np.mean(df.lwv[1:800]-0.77), np.std(df.lwv[1:800])"
   ]
  },
  {
   "cell_type": "code",
   "execution_count": 785,
   "id": "romantic-aberdeen",
   "metadata": {},
   "outputs": [
    {
     "data": {
      "image/png": "[encoded data removed]",
      "text/plain": [
       "<Figure size 432x288 with 1 Axes>"
      ]
     },
     "metadata": {
      "needs_background": "light"
     },
     "output_type": "display_data"
    }
   ],
   "source": [
    "fig, ax = plt.subplots()\n",
    "ax.plot(df.GMT_Time[1:800:10],df.slopey[1:800:10],'ro',label='drifty')\n",
    "ax.plot(df.GMT_Time[1:800:10],wf2.wind_y_velocity[1:800:10],'go',label='y-WS')\n",
    "plt.rcParams[\"date.autoformatter.minute\"] = \"%H:%M:%S\"\n",
    "ax.xaxis.set_major_formatter(mdates.DateFormatter(\"%H-%M:%S\"))\n",
    "ax.xaxis.set_minor_formatter(mdates.DateFormatter(\"%H-%M-%S\"))\n",
    "_=plt.xticks(rotation=90)    \n",
    "plt.xlabel('GMT Time')\n",
    "plt.ylabel('Drift velocity along N-S')\n",
    "plt.title('Pelican : 19:38-20.30')\n",
    "plt.legend()\n",
    "plt.savefig('y-drift velocity-Pelican')\n"
   ]
  },
  {
   "cell_type": "code",
   "execution_count": 786,
   "id": "atlantic-installation",
   "metadata": {},
   "outputs": [
    {
     "data": {
      "text/plain": [
       "array([[ 1.       , -0.0345015],\n",
       "       [-0.0345015,  1.       ]])"
      ]
     },
     "execution_count": 786,
     "metadata": {},
     "output_type": "execute_result"
    }
   ],
   "source": [
    "np.corrcoef(wf2.wind_speed[1:800], df.slopey[1:800])"
   ]
  },
  {
   "cell_type": "code",
   "execution_count": 778,
   "id": "impaired-third",
   "metadata": {},
   "outputs": [
    {
     "data": {
      "text/plain": [
       "32.736160188457006"
      ]
     },
     "execution_count": 778,
     "metadata": {},
     "output_type": "execute_result"
    }
   ],
   "source": [
    "(df[\"GMT_Time\"].dt.minute).mean()"
   ]
  },
  {
   "cell_type": "code",
   "execution_count": 779,
   "id": "deadly-waters",
   "metadata": {},
   "outputs": [
    {
     "data": {
      "text/plain": [
       "GMT_Time\n",
       "7    2.257313\n",
       "8    3.266418\n",
       "Name: lwv, dtype: float64"
      ]
     },
     "execution_count": 779,
     "metadata": {},
     "output_type": "execute_result"
    }
   ],
   "source": [
    "df.sdf[\"GMT_Time\"].dt.hour])[\"lwv\"].mean()*1.943"
   ]
  },
  {
   "cell_type": "code",
   "execution_count": 784,
   "id": "standing-tennessee",
   "metadata": {},
   "outputs": [
    {
     "data": {
      "image/png": "[encoded data removed]",
      "text/plain": [
       "<Figure size 432x288 with 1 Axes>"
      ]
     },
     "metadata": {
      "needs_background": "light"
     },
     "output_type": "display_data"
    }
   ],
   "source": [
    "fig, ax = plt.subplots()\n",
    "ax.plot(df.GMT_Time[1:800],df.driftx[1:800],'go',label='driftx E_W')\n",
    "ax.plot(df.GMT_Time[1:800], df.drifty[1:800],'ro',label='drifty N-S')\n",
    "#ax.plot(df.GMT_Time[1:800], df.lwv[1:800],'kx')\n",
    "plt.rcParams[\"date.autoformatter.minute\"] = \"%H:%M:%S\"\n",
    "ax.xaxis.set_major_formatter(mdates.DateFormatter(\"%H-%M:%S\"))\n",
    "ax.xaxis.set_minor_formatter(mdates.DateFormatter(\"%H-%M-%S\"))\n",
    "_=plt.xticks(rotation=90) \n",
    "plt.xlabel('GMT_Time')\n",
    "plt.ylabel('drift-velocity E-W/N-S')\n",
    "plt.legend()\n",
    "plt.ylim(-2,2)\n",
    "plt.savefig('pelican-drift')\n"
   ]
  },
  {
   "cell_type": "code",
   "execution_count": null,
   "id": "alpha-occupation",
   "metadata": {},
   "outputs": [],
   "source": []
  },
  {
   "cell_type": "code",
   "execution_count": 739,
   "id": "dangerous-musical",
   "metadata": {},
   "outputs": [
    {
     "name": "stderr",
     "output_type": "stream",
     "text": [
      "No handles with labels found to put in legend.\n"
     ]
    },
    {
     "data": {
      "image/png": "[encoded data removed]",
      "text/plain": [
       "<Figure size 432x288 with 1 Axes>"
      ]
     },
     "metadata": {
      "needs_background": "light"
     },
     "output_type": "display_data"
    }
   ],
   "source": [
    "fig, ax = plt.subplots()\n",
    "ax.plot(df.GMT_Time[1:800], df.lwv[1:800],'k-')\n",
    "#ax.plot(df.GMT_Time,df.drifty,'b-o')\n",
    "plt.rcParams[\"date.autoformatter.minute\"] = \"%H:%M:%S\"\n",
    "ax.xaxis.set_major_formatter(mdates.DateFormatter(\"%H-%M:%S\"))\n",
    "ax.xaxis.set_minor_formatter(mdates.DateFormatter(\"%H-%M-%S\"))\n",
    "_=plt.xticks(rotation=90) \n",
    "plt.xlabel('GMT_Time')\n",
    "plt.ylabel('drift-speed absolute m/s')\n",
    "plt.legend()\n",
    "plt.savefig('pelican-drift-total')\n"
   ]
  },
  {
   "cell_type": "code",
   "execution_count": 752,
   "id": "novel-component",
   "metadata": {},
   "outputs": [
    {
     "data": {
      "text/plain": [
       "nan"
      ]
     },
     "execution_count": 752,
     "metadata": {},
     "output_type": "execute_result"
    }
   ],
   "source": []
  },
  {
   "cell_type": "code",
   "execution_count": 148,
   "id": "another-skating",
   "metadata": {},
   "outputs": [],
   "source": [
    "wd1_dna[\"GMT_Time\"] = pd.to_datetime(wd1_dna['time'])"
   ]
  },
  {
   "cell_type": "code",
   "execution_count": 369,
   "id": "polyphonic-transcription",
   "metadata": {},
   "outputs": [
    {
     "data": {
      "text/html": [
       "<div>\n",
       "<style scoped>\n",
       "    .dataframe tbody tr th:only-of-type {\n",
       "        vertical-align: middle;\n",
       "    }\n",
       "\n",
       "    .dataframe tbody tr th {\n",
       "        vertical-align: top;\n",
       "    }\n",
       "\n",
       "    .dataframe thead th {\n",
       "        text-align: right;\n",
       "    }\n",
       "</style>\n",
       "<table border=\"1\" class=\"dataframe\">\n",
       "  <thead>\n",
       "    <tr style=\"text-align: right;\">\n",
       "      <th></th>\n",
       "      <th>time</th>\n",
       "      <th>wind_x_velocity</th>\n",
       "      <th>wind_y_velocity</th>\n",
       "      <th>wind_speed</th>\n",
       "      <th>heading</th>\n",
       "      <th>latitude</th>\n",
       "      <th>longitude</th>\n",
       "      <th>wind_polar_r</th>\n",
       "      <th>wind_polar_radians</th>\n",
       "      <th>GMT_Time</th>\n",
       "    </tr>\n",
       "  </thead>\n",
       "  <tbody>\n",
       "    <tr>\n",
       "      <th>0</th>\n",
       "      <td>2021-04-18 16:39:12.034606336</td>\n",
       "      <td>-5.238559</td>\n",
       "      <td>2.49544</td>\n",
       "      <td>5.802563</td>\n",
       "      <td>54.594</td>\n",
       "      <td>29.349991</td>\n",
       "      <td>-94.852417</td>\n",
       "      <td>5.802563</td>\n",
       "      <td>0.858493</td>\n",
       "      <td>2021-04-18 16:39:12.034606336</td>\n",
       "    </tr>\n",
       "    <tr>\n",
       "      <th>1</th>\n",
       "      <td>2021-04-18 16:39:12.134736896</td>\n",
       "      <td>-5.428308</td>\n",
       "      <td>2.63294</td>\n",
       "      <td>6.033149</td>\n",
       "      <td>54.594</td>\n",
       "      <td>29.349991</td>\n",
       "      <td>-94.852417</td>\n",
       "      <td>6.033149</td>\n",
       "      <td>0.856249</td>\n",
       "      <td>2021-04-18 16:39:12.134736896</td>\n",
       "    </tr>\n",
       "    <tr>\n",
       "      <th>2</th>\n",
       "      <td>2021-04-18 16:39:12.237749504</td>\n",
       "      <td>-5.554867</td>\n",
       "      <td>2.69879</td>\n",
       "      <td>6.175761</td>\n",
       "      <td>54.594</td>\n",
       "      <td>29.349991</td>\n",
       "      <td>-94.852417</td>\n",
       "      <td>6.175761</td>\n",
       "      <td>0.856042</td>\n",
       "      <td>2021-04-18 16:39:12.237749504</td>\n",
       "    </tr>\n",
       "    <tr>\n",
       "      <th>3</th>\n",
       "      <td>2021-04-18 16:39:12.340727296</td>\n",
       "      <td>-5.905380</td>\n",
       "      <td>2.69127</td>\n",
       "      <td>6.489716</td>\n",
       "      <td>54.716</td>\n",
       "      <td>29.349991</td>\n",
       "      <td>-94.852416</td>\n",
       "      <td>6.489716</td>\n",
       "      <td>0.863888</td>\n",
       "      <td>2021-04-18 16:39:12.340727296</td>\n",
       "    </tr>\n",
       "    <tr>\n",
       "      <th>4</th>\n",
       "      <td>2021-04-18 16:39:12.435150080</td>\n",
       "      <td>-5.240006</td>\n",
       "      <td>2.42095</td>\n",
       "      <td>5.772231</td>\n",
       "      <td>54.716</td>\n",
       "      <td>29.349991</td>\n",
       "      <td>-94.852416</td>\n",
       "      <td>5.772231</td>\n",
       "      <td>0.862236</td>\n",
       "      <td>2021-04-18 16:39:12.435150080</td>\n",
       "    </tr>\n",
       "    <tr>\n",
       "      <th>...</th>\n",
       "      <td>...</td>\n",
       "      <td>...</td>\n",
       "      <td>...</td>\n",
       "      <td>...</td>\n",
       "      <td>...</td>\n",
       "      <td>...</td>\n",
       "      <td>...</td>\n",
       "      <td>...</td>\n",
       "      <td>...</td>\n",
       "      <td>...</td>\n",
       "    </tr>\n",
       "    <tr>\n",
       "      <th>75808</th>\n",
       "      <td>2021-04-18 18:53:41.836144384</td>\n",
       "      <td>-6.284467</td>\n",
       "      <td>3.35058</td>\n",
       "      <td>7.350619</td>\n",
       "      <td>75.722</td>\n",
       "      <td>29.344102</td>\n",
       "      <td>-94.851817</td>\n",
       "      <td>7.121861</td>\n",
       "      <td>0.844087</td>\n",
       "      <td>2021-04-18 18:53:41.836144384</td>\n",
       "    </tr>\n",
       "    <tr>\n",
       "      <th>75809</th>\n",
       "      <td>2021-04-18 18:53:41.934479104</td>\n",
       "      <td>-6.291549</td>\n",
       "      <td>3.70684</td>\n",
       "      <td>6.569358</td>\n",
       "      <td>75.722</td>\n",
       "      <td>29.344102</td>\n",
       "      <td>-94.851817</td>\n",
       "      <td>7.302344</td>\n",
       "      <td>0.830524</td>\n",
       "      <td>2021-04-18 18:53:41.934479104</td>\n",
       "    </tr>\n",
       "    <tr>\n",
       "      <th>75810</th>\n",
       "      <td>2021-04-18 18:53:42.034369792</td>\n",
       "      <td>-5.945097</td>\n",
       "      <td>2.53784</td>\n",
       "      <td>7.104393</td>\n",
       "      <td>75.394</td>\n",
       "      <td>29.344101</td>\n",
       "      <td>-94.851817</td>\n",
       "      <td>6.464116</td>\n",
       "      <td>0.871574</td>\n",
       "      <td>2021-04-18 18:53:42.034369792</td>\n",
       "    </tr>\n",
       "    <tr>\n",
       "      <th>75811</th>\n",
       "      <td>2021-04-18 18:53:42.134696448</td>\n",
       "      <td>-6.063230</td>\n",
       "      <td>0.75855</td>\n",
       "      <td>7.733490</td>\n",
       "      <td>75.394</td>\n",
       "      <td>29.344101</td>\n",
       "      <td>-94.851817</td>\n",
       "      <td>6.110495</td>\n",
       "      <td>0.960383</td>\n",
       "      <td>2021-04-18 18:53:42.134696448</td>\n",
       "    </tr>\n",
       "    <tr>\n",
       "      <th>75812</th>\n",
       "      <td>2021-04-18 18:53:42.236367360</td>\n",
       "      <td>-5.130998</td>\n",
       "      <td>-1.20482</td>\n",
       "      <td>7.003129</td>\n",
       "      <td>75.394</td>\n",
       "      <td>29.344101</td>\n",
       "      <td>-94.851817</td>\n",
       "      <td>5.270555</td>\n",
       "      <td>1.073413</td>\n",
       "      <td>2021-04-18 18:53:42.236367360</td>\n",
       "    </tr>\n",
       "  </tbody>\n",
       "</table>\n",
       "<p>75813 rows × 10 columns</p>\n",
       "</div>"
      ],
      "text/plain": [
       "                                time  wind_x_velocity  wind_y_velocity  \\\n",
       "0      2021-04-18 16:39:12.034606336        -5.238559          2.49544   \n",
       "1      2021-04-18 16:39:12.134736896        -5.428308          2.63294   \n",
       "2      2021-04-18 16:39:12.237749504        -5.554867          2.69879   \n",
       "3      2021-04-18 16:39:12.340727296        -5.905380          2.69127   \n",
       "4      2021-04-18 16:39:12.435150080        -5.240006          2.42095   \n",
       "...                              ...              ...              ...   \n",
       "75808  2021-04-18 18:53:41.836144384        -6.284467          3.35058   \n",
       "75809  2021-04-18 18:53:41.934479104        -6.291549          3.70684   \n",
       "75810  2021-04-18 18:53:42.034369792        -5.945097          2.53784   \n",
       "75811  2021-04-18 18:53:42.134696448        -6.063230          0.75855   \n",
       "75812  2021-04-18 18:53:42.236367360        -5.130998         -1.20482   \n",
       "\n",
       "       wind_speed  heading   latitude  longitude  wind_polar_r  \\\n",
       "0        5.802563   54.594  29.349991 -94.852417      5.802563   \n",
       "1        6.033149   54.594  29.349991 -94.852417      6.033149   \n",
       "2        6.175761   54.594  29.349991 -94.852417      6.175761   \n",
       "3        6.489716   54.716  29.349991 -94.852416      6.489716   \n",
       "4        5.772231   54.716  29.349991 -94.852416      5.772231   \n",
       "...           ...      ...        ...        ...           ...   \n",
       "75808    7.350619   75.722  29.344102 -94.851817      7.121861   \n",
       "75809    6.569358   75.722  29.344102 -94.851817      7.302344   \n",
       "75810    7.104393   75.394  29.344101 -94.851817      6.464116   \n",
       "75811    7.733490   75.394  29.344101 -94.851817      6.110495   \n",
       "75812    7.003129   75.394  29.344101 -94.851817      5.270555   \n",
       "\n",
       "       wind_polar_radians                      GMT_Time  \n",
       "0                0.858493 2021-04-18 16:39:12.034606336  \n",
       "1                0.856249 2021-04-18 16:39:12.134736896  \n",
       "2                0.856042 2021-04-18 16:39:12.237749504  \n",
       "3                0.863888 2021-04-18 16:39:12.340727296  \n",
       "4                0.862236 2021-04-18 16:39:12.435150080  \n",
       "...                   ...                           ...  \n",
       "75808            0.844087 2021-04-18 18:53:41.836144384  \n",
       "75809            0.830524 2021-04-18 18:53:41.934479104  \n",
       "75810            0.871574 2021-04-18 18:53:42.034369792  \n",
       "75811            0.960383 2021-04-18 18:53:42.134696448  \n",
       "75812            1.073413 2021-04-18 18:53:42.236367360  \n",
       "\n",
       "[75813 rows x 10 columns]"
      ]
     },
     "execution_count": 369,
     "metadata": {},
     "output_type": "execute_result"
    }
   ],
   "source": [
    "wd1_dna"
   ]
  },
  {
   "cell_type": "code",
   "execution_count": 149,
   "id": "extensive-glucose",
   "metadata": {},
   "outputs": [
    {
     "data": {
      "image/png": "[encoded data removed]",
      "text/plain": [
       "<Figure size 432x288 with 1 Axes>"
      ]
     },
     "metadata": {
      "needs_background": "light"
     },
     "output_type": "display_data"
    }
   ],
   "source": [
    "fig, ax = plt.subplots()\n",
    "ax.plot(wd1_dna.GMT_Time[1400:8500:50],wd1_dna.wind_speed[1400:8500:50],'g-o')\n",
    "plt.rcParams[\"date.autoformatter.minute\"] = \"%H:%M:%S\"\n",
    "ax.xaxis.set_major_formatter(mdates.DateFormatter(\"%H-%M:%S\"))\n",
    "ax.xaxis.set_minor_formatter(mdates.DateFormatter(\"%H-%M-%S\"))\n",
    "_=plt.xticks(rotation=90) "
   ]
  },
  {
   "cell_type": "code",
   "execution_count": 372,
   "id": "flush-cache",
   "metadata": {},
   "outputs": [
    {
     "data": {
      "text/plain": [
       "GMT_Time\n",
       "16    11.841624\n",
       "17    14.002259\n",
       "18    13.737551\n",
       "Name: wind_speed, dtype: float64"
      ]
     },
     "execution_count": 372,
     "metadata": {},
     "output_type": "execute_result"
    }
   ],
   "source": [
    "wd1_dna.groupby([wd1_dna[\"GMT_Time\"].dt.hour])[\"wind_speed\"].mean()*1.943"
   ]
  },
  {
   "cell_type": "code",
   "execution_count": 531,
   "id": "postal-begin",
   "metadata": {},
   "outputs": [],
   "source": [
    "\n",
    "buoy=pd.read_table('gal.csv')"
   ]
  },
  {
   "cell_type": "code",
   "execution_count": 532,
   "id": "consistent-wound",
   "metadata": {},
   "outputs": [
    {
     "data": {
      "text/plain": [
       "Date/Time         2021-04-18 00:04:00\n",
       " Speed (knots)                   0.34\n",
       " Dir (true)                       160\n",
       "Name: 0, dtype: object"
      ]
     },
     "execution_count": 532,
     "metadata": {},
     "output_type": "execute_result"
    }
   ],
   "source": [
    "buoy.iloc[0]"
   ]
  },
  {
   "cell_type": "code",
   "execution_count": 533,
   "id": "ambient-boundary",
   "metadata": {},
   "outputs": [
    {
     "data": {
      "text/plain": [
       "' Speed (knots)'"
      ]
     },
     "execution_count": 533,
     "metadata": {},
     "output_type": "execute_result"
    }
   ],
   "source": [
    "buoy.columns[1]"
   ]
  },
  {
   "cell_type": "code",
   "execution_count": 475,
   "id": "otherwise-festival",
   "metadata": {},
   "outputs": [
    {
     "data": {
      "text/plain": [
       "'0.03'"
      ]
     },
     "execution_count": 475,
     "metadata": {},
     "output_type": "execute_result"
    }
   ],
   "source": [
    "min(buoy.speed[1:50])"
   ]
  },
  {
   "cell_type": "code",
   "execution_count": 534,
   "id": "substantial-remove",
   "metadata": {},
   "outputs": [
    {
     "data": {
      "text/html": [
       "<div>\n",
       "<style scoped>\n",
       "    .dataframe tbody tr th:only-of-type {\n",
       "        vertical-align: middle;\n",
       "    }\n",
       "\n",
       "    .dataframe tbody tr th {\n",
       "        vertical-align: top;\n",
       "    }\n",
       "\n",
       "    .dataframe thead th {\n",
       "        text-align: right;\n",
       "    }\n",
       "</style>\n",
       "<table border=\"1\" class=\"dataframe\">\n",
       "  <thead>\n",
       "    <tr style=\"text-align: right;\">\n",
       "      <th></th>\n",
       "      <th>Date/Time</th>\n",
       "      <th>Speed (knots)</th>\n",
       "      <th>Dir (true)</th>\n",
       "    </tr>\n",
       "  </thead>\n",
       "  <tbody>\n",
       "    <tr>\n",
       "      <th>0</th>\n",
       "      <td>2021-04-18 00:04:00</td>\n",
       "      <td>0.34</td>\n",
       "      <td>160</td>\n",
       "    </tr>\n",
       "    <tr>\n",
       "      <th>1</th>\n",
       "      <td>2021-04-18 00:10:00</td>\n",
       "      <td>0.35</td>\n",
       "      <td>159</td>\n",
       "    </tr>\n",
       "    <tr>\n",
       "      <th>2</th>\n",
       "      <td>2021-04-18 00:16:00</td>\n",
       "      <td>0.32</td>\n",
       "      <td>161</td>\n",
       "    </tr>\n",
       "    <tr>\n",
       "      <th>3</th>\n",
       "      <td>2021-04-18 00:22:00</td>\n",
       "      <td>0.24</td>\n",
       "      <td>160</td>\n",
       "    </tr>\n",
       "    <tr>\n",
       "      <th>4</th>\n",
       "      <td>2021-04-18 00:28:00</td>\n",
       "      <td>0.20</td>\n",
       "      <td>176</td>\n",
       "    </tr>\n",
       "  </tbody>\n",
       "</table>\n",
       "</div>"
      ],
      "text/plain": [
       "             Date/Time   Speed (knots)   Dir (true)\n",
       "0  2021-04-18 00:04:00            0.34          160\n",
       "1  2021-04-18 00:10:00            0.35          159\n",
       "2  2021-04-18 00:16:00            0.32          161\n",
       "3  2021-04-18 00:22:00            0.24          160\n",
       "4  2021-04-18 00:28:00            0.20          176"
      ]
     },
     "execution_count": 534,
     "metadata": {},
     "output_type": "execute_result"
    }
   ],
   "source": [
    "buoy.head()"
   ]
  },
  {
   "cell_type": "code",
   "execution_count": 535,
   "id": "prime-titanium",
   "metadata": {},
   "outputs": [
    {
     "data": {
      "text/plain": [
       "['Date/Time', ' Speed (knots)', ' Dir (true)']"
      ]
     },
     "execution_count": 535,
     "metadata": {},
     "output_type": "execute_result"
    }
   ],
   "source": [
    "list(buoy.columns.values)"
   ]
  },
  {
   "cell_type": "code",
   "execution_count": 536,
   "id": "personalized-meaning",
   "metadata": {},
   "outputs": [],
   "source": [
    "buoy.columns=['date','speed','dir']"
   ]
  },
  {
   "cell_type": "code",
   "execution_count": 528,
   "id": "figured-missile",
   "metadata": {},
   "outputs": [
    {
     "data": {
      "text/plain": [
       "'2021-04-30 19:05:00'"
      ]
     },
     "execution_count": 528,
     "metadata": {},
     "output_type": "execute_result"
    }
   ],
   "source": [
    "buoy.date[190]"
   ]
  },
  {
   "cell_type": "code",
   "execution_count": 538,
   "id": "distant-facial",
   "metadata": {},
   "outputs": [
    {
     "data": {
      "text/plain": [
       "[<matplotlib.lines.Line2D at 0x7f955ccb3f10>]"
      ]
     },
     "execution_count": 538,
     "metadata": {},
     "output_type": "execute_result"
    },
    {
     "data": {
      "image/png": "[encoded data removed]",
      "text/plain": [
       "<Figure size 432x288 with 1 Axes>"
      ]
     },
     "metadata": {
      "needs_background": "light"
     },
     "output_type": "display_data"
    }
   ],
   "source": [
    "plt.plot(buoy.date,buoy.speed)"
   ]
  },
  {
   "cell_type": "code",
   "execution_count": 539,
   "id": "cosmetic-attack",
   "metadata": {},
   "outputs": [],
   "source": [
    "buoy[\"GMT_Time\"] = pd.to_datetime(buoy['date'])"
   ]
  },
  {
   "cell_type": "code",
   "execution_count": 549,
   "id": "subjective-graduate",
   "metadata": {},
   "outputs": [
    {
     "data": {
      "image/png": "[encoded data removed]",
      "text/plain": [
       "<Figure size 432x288 with 1 Axes>"
      ]
     },
     "metadata": {
      "needs_background": "light"
     },
     "output_type": "display_data"
    }
   ],
   "source": [
    "plt.plot(buoy[\"GMT_Time\"][165:190], buoy.speed[165:190],'-go')\n",
    "plt.ylabel('Current speed knots')\n",
    "plt.xlabel('Buoy Speed')\n",
    "plt.savefig('buoy.png')\n"
   ]
  },
  {
   "cell_type": "code",
   "execution_count": 542,
   "id": "awful-multiple",
   "metadata": {},
   "outputs": [
    {
     "data": {
      "text/plain": [
       "0.8675999999999999"
      ]
     },
     "execution_count": 542,
     "metadata": {},
     "output_type": "execute_result"
    }
   ],
   "source": [
    "np.mean(buoy.speed[165:19])"
   ]
  },
  {
   "cell_type": "code",
   "execution_count": 543,
   "id": "provincial-touch",
   "metadata": {},
   "outputs": [
    {
     "data": {
      "text/plain": [
       "0.442614513638703"
      ]
     },
     "execution_count": 543,
     "metadata": {},
     "output_type": "execute_result"
    }
   ],
   "source": [
    "0.86/1.943"
   ]
  },
  {
   "cell_type": "code",
   "execution_count": 816,
   "id": "described-sword",
   "metadata": {},
   "outputs": [
    {
     "data": {
      "text/plain": [
       "'/Users/qfm954/Dropbox/USCG/Lat-Lon_Leeway/GALVESTONTEST3_APRIL182021'"
      ]
     },
     "execution_count": 816,
     "metadata": {},
     "output_type": "execute_result"
    }
   ],
   "source": [
    "pwd"
   ]
  },
  {
   "cell_type": "code",
   "execution_count": 905,
   "id": "fifty-activation",
   "metadata": {},
   "outputs": [],
   "source": [
    "#header_columns=[\"a\",\"b\",\"c\",\"d\",\"e\",\"f\",\"g\",\"i\",\"j\"]\n",
    "df2=pd.read_csv('Tank1.csv',sep=',')\n",
    "#df2 = df.iloc[:, 0].str.split(',', expand=True)\n",
    "#df2.columns = [n.replace('\"', '') for n in df.columns.str.split(',')[0]]\n",
    "#wind1.columns=['a','b','c','d','e','f','g','h','i']"
   ]
  },
  {
   "cell_type": "code",
   "execution_count": 913,
   "id": "rural-stationery",
   "metadata": {},
   "outputs": [
    {
     "data": {
      "text/plain": [
       "'Unnamed: 1'"
      ]
     },
     "execution_count": 913,
     "metadata": {},
     "output_type": "execute_result"
    }
   ],
   "source": [
    "df2.columns[1]"
   ]
  },
  {
   "cell_type": "code",
   "execution_count": 862,
   "id": "narrow-cricket",
   "metadata": {},
   "outputs": [
    {
     "data": {
      "text/html": [
       "<div>\n",
       "<style scoped>\n",
       "    .dataframe tbody tr th:only-of-type {\n",
       "        vertical-align: middle;\n",
       "    }\n",
       "\n",
       "    .dataframe tbody tr th {\n",
       "        vertical-align: top;\n",
       "    }\n",
       "\n",
       "    .dataframe thead th {\n",
       "        text-align: right;\n",
       "    }\n",
       "</style>\n",
       "<table border=\"1\" class=\"dataframe\">\n",
       "  <thead>\n",
       "    <tr style=\"text-align: right;\">\n",
       "      <th></th>\n",
       "      <th>Unnamed: 0</th>\n",
       "      <th>%time,field.data1,data2,data3,data4,data5,data6,data7</th>\n",
       "    </tr>\n",
       "  </thead>\n",
       "  <tbody>\n",
       "    <tr>\n",
       "      <th>0</th>\n",
       "      <td>0</td>\n",
       "      <td>1618763951934012262,1618763951.93,\u0002P,-004.909,...</td>\n",
       "    </tr>\n",
       "    <tr>\n",
       "      <th>1</th>\n",
       "      <td>1</td>\n",
       "      <td>1618763952034606301,1618763952.03,\u0002P,-005.069,...</td>\n",
       "    </tr>\n",
       "    <tr>\n",
       "      <th>2</th>\n",
       "      <td>2</td>\n",
       "      <td>1618763952134736737,1618763952.13,\u0002P,-005.291,...</td>\n",
       "    </tr>\n",
       "    <tr>\n",
       "      <th>3</th>\n",
       "      <td>3</td>\n",
       "      <td>1618763952237749693,1618763952.23,\u0002P,-005.418,...</td>\n",
       "    </tr>\n",
       "    <tr>\n",
       "      <th>4</th>\n",
       "      <td>4</td>\n",
       "      <td>1618763952340727191,1618763952.33,\u0002P,-005.608,...</td>\n",
       "    </tr>\n",
       "    <tr>\n",
       "      <th>...</th>\n",
       "      <td>...</td>\n",
       "      <td>...</td>\n",
       "    </tr>\n",
       "    <tr>\n",
       "      <th>16378</th>\n",
       "      <td>290</td>\n",
       "      <td>1618765589135110572,1618765589.13,\u0002P,+004.052,...</td>\n",
       "    </tr>\n",
       "    <tr>\n",
       "      <th>16379</th>\n",
       "      <td>291</td>\n",
       "      <td>1618765589238787715,1618765589.23,\u0002P,+004.145,...</td>\n",
       "    </tr>\n",
       "    <tr>\n",
       "      <th>16380</th>\n",
       "      <td>292</td>\n",
       "      <td>1618765589336168340,1618765589.33,\u0002P,+003.960,...</td>\n",
       "    </tr>\n",
       "    <tr>\n",
       "      <th>16381</th>\n",
       "      <td>293</td>\n",
       "      <td>1618765589436594469,1618765589.43,\u0002P,+003.635,...</td>\n",
       "    </tr>\n",
       "    <tr>\n",
       "      <th>16382</th>\n",
       "      <td>294</td>\n",
       "      <td>1618765589535377680,1618765589.53,\u0002P,+003.939,...</td>\n",
       "    </tr>\n",
       "  </tbody>\n",
       "</table>\n",
       "<p>16383 rows × 2 columns</p>\n",
       "</div>"
      ],
      "text/plain": [
       "       Unnamed: 0 %time,field.data1,data2,data3,data4,data5,data6,data7\n",
       "0               0  1618763951934012262,1618763951.93,\u0002P,-004.909,...   \n",
       "1               1  1618763952034606301,1618763952.03,\u0002P,-005.069,...   \n",
       "2               2  1618763952134736737,1618763952.13,\u0002P,-005.291,...   \n",
       "3               3  1618763952237749693,1618763952.23,\u0002P,-005.418,...   \n",
       "4               4  1618763952340727191,1618763952.33,\u0002P,-005.608,...   \n",
       "...           ...                                                ...   \n",
       "16378         290  1618765589135110572,1618765589.13,\u0002P,+004.052,...   \n",
       "16379         291  1618765589238787715,1618765589.23,\u0002P,+004.145,...   \n",
       "16380         292  1618765589336168340,1618765589.33,\u0002P,+003.960,...   \n",
       "16381         293  1618765589436594469,1618765589.43,\u0002P,+003.635,...   \n",
       "16382         294  1618765589535377680,1618765589.53,\u0002P,+003.939,...   \n",
       "\n",
       "[16383 rows x 2 columns]"
      ]
     },
     "execution_count": 862,
     "metadata": {},
     "output_type": "execute_result"
    }
   ],
   "source": [
    "wind1"
   ]
  },
  {
   "cell_type": "code",
   "execution_count": 901,
   "id": "exterior-feeling",
   "metadata": {},
   "outputs": [
    {
     "data": {
      "text/plain": [
       "[['T1', 'T2', 'T3', 'T4', 'T5', 'T6', 'T7', 'T8', 'T9']]"
      ]
     },
     "execution_count": 901,
     "metadata": {},
     "output_type": "execute_result"
    }
   ],
   "source": [
    "names"
   ]
  },
  {
   "cell_type": "code",
   "execution_count": 835,
   "id": "enhanced-camel",
   "metadata": {},
   "outputs": [
    {
     "data": {
      "text/html": [
       "<div>\n",
       "<style scoped>\n",
       "    .dataframe tbody tr th:only-of-type {\n",
       "        vertical-align: middle;\n",
       "    }\n",
       "\n",
       "    .dataframe tbody tr th {\n",
       "        vertical-align: top;\n",
       "    }\n",
       "\n",
       "    .dataframe thead th {\n",
       "        text-align: right;\n",
       "    }\n",
       "</style>\n",
       "<table border=\"1\" class=\"dataframe\">\n",
       "  <thead>\n",
       "    <tr style=\"text-align: right;\">\n",
       "      <th></th>\n",
       "      <th>0</th>\n",
       "    </tr>\n",
       "  </thead>\n",
       "  <tbody>\n",
       "    <tr>\n",
       "      <th>0</th>\n",
       "      <td>1618763951934012262,1618763951.93,\u0002P,-004.909,...</td>\n",
       "    </tr>\n",
       "    <tr>\n",
       "      <th>1</th>\n",
       "      <td>1618763952034606301,1618763952.03,\u0002P,-005.069,...</td>\n",
       "    </tr>\n",
       "    <tr>\n",
       "      <th>2</th>\n",
       "      <td>1618763952134736737,1618763952.13,\u0002P,-005.291,...</td>\n",
       "    </tr>\n",
       "    <tr>\n",
       "      <th>3</th>\n",
       "      <td>1618763952237749693,1618763952.23,\u0002P,-005.418,...</td>\n",
       "    </tr>\n",
       "    <tr>\n",
       "      <th>4</th>\n",
       "      <td>1618763952340727191,1618763952.33,\u0002P,-005.608,...</td>\n",
       "    </tr>\n",
       "    <tr>\n",
       "      <th>...</th>\n",
       "      <td>...</td>\n",
       "    </tr>\n",
       "    <tr>\n",
       "      <th>65503</th>\n",
       "      <td>1618770501434102333,1618770501.43,\u0002P,+001.991,...</td>\n",
       "    </tr>\n",
       "    <tr>\n",
       "      <th>65504</th>\n",
       "      <td>1618770501534538862,1618770501.53,\u0002P,+001.475,...</td>\n",
       "    </tr>\n",
       "    <tr>\n",
       "      <th>65505</th>\n",
       "      <td>1618770501636070412,1618770501.63,\u0002P,-003.452,...</td>\n",
       "    </tr>\n",
       "    <tr>\n",
       "      <th>65506</th>\n",
       "      <td>1618770501734671120,1618770501.73,\u0002P,-003.141,...</td>\n",
       "    </tr>\n",
       "    <tr>\n",
       "      <th>65507</th>\n",
       "      <td>1618770501834128056,1618770501.83,\u0002P,-003.989,...</td>\n",
       "    </tr>\n",
       "  </tbody>\n",
       "</table>\n",
       "<p>65508 rows × 1 columns</p>\n",
       "</div>"
      ],
      "text/plain": [
       "                                                       0\n",
       "0      1618763951934012262,1618763951.93,\u0002P,-004.909,...\n",
       "1      1618763952034606301,1618763952.03,\u0002P,-005.069,...\n",
       "2      1618763952134736737,1618763952.13,\u0002P,-005.291,...\n",
       "3      1618763952237749693,1618763952.23,\u0002P,-005.418,...\n",
       "4      1618763952340727191,1618763952.33,\u0002P,-005.608,...\n",
       "...                                                  ...\n",
       "65503  1618770501434102333,1618770501.43,\u0002P,+001.991,...\n",
       "65504  1618770501534538862,1618770501.53,\u0002P,+001.475,...\n",
       "65505  1618770501636070412,1618770501.63,\u0002P,-003.452,...\n",
       "65506  1618770501734671120,1618770501.73,\u0002P,-003.141,...\n",
       "65507  1618770501834128056,1618770501.83,\u0002P,-003.989,...\n",
       "\n",
       "[65508 rows x 1 columns]"
      ]
     },
     "execution_count": 835,
     "metadata": {},
     "output_type": "execute_result"
    }
   ],
   "source": [
    "wind1"
   ]
  },
  {
   "cell_type": "code",
   "execution_count": null,
   "id": "compact-creator",
   "metadata": {},
   "outputs": [],
   "source": []
  },
  {
   "cell_type": "code",
   "execution_count": null,
   "id": "optimum-hopkins",
   "metadata": {},
   "outputs": [],
   "source": []
  },
  {
   "cell_type": "code",
   "execution_count": null,
   "id": "inside-haven",
   "metadata": {},
   "outputs": [],
   "source": []
  }
 ],
 "metadata": {
  "kernelspec": {
   "display_name": "Python 3",
   "language": "python",
   "name": "python3"
  },
  "language_info": {
   "codemirror_mode": {
    "name": "ipython",
    "version": 3
   },
   "file_extension": ".py",
   "mimetype": "text/x-python",
   "name": "python",
   "nbconvert_exporter": "python",
   "pygments_lexer": "ipython3",
   "version": "3.8.5"
  }
 },
 "nbformat": 4,
 "nbformat_minor": 5
}
